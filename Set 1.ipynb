{
 "cells": [
  {
   "cell_type": "code",
   "execution_count": null,
   "id": "4496ad24",
   "metadata": {},
   "outputs": [],
   "source": [
    "Q1. Write a function get_date(int) that takes a param number_of_days and if the number is odd return (current_date + number_of_days) else return (current_date - number_of_days)\n"
   ]
  },
  {
   "cell_type": "code",
   "execution_count": 1,
   "id": "f555b8a3",
   "metadata": {},
   "outputs": [],
   "source": [
    "import datetime as dt\n",
    "import time as tm\n",
    "def get_date(number_of_days):\n",
    "    if number_of_days % 2 !=0:\n",
    "        return dt.date.today() + dt.timedelta(days=50)\n",
    "    else:\n",
    "        return dt.date.today() -  dt.timedelta(days=50)\n",
    "    \n",
    "get_date(5)"
   ]
  },
  {
   "cell_type": "markdown",
   "id": "9620151a",
   "metadata": {},
   "source": [
    "Q2. Write a function stringify using map that takes a list of strings and a function and converts each string into separate string\n",
    "Input =['devnation', 'data science', 'requires', 'dedication']\n",
    "Output =[[‘d’,’e’,’v’,’n’,’a’,’t’,’i’,’o’,’n’],[‘d’,’a’,’t’,’a’,’s’,’i’,’e’,’n’,’c’,’e’],\n",
    "[‘r’,’e’,’q’,’u’,’i’,’r’,’e’,’s’],[‘d’,’e’,’d’,’i’,’c’,’a’,’t’,’i’,’o’,’n’]]\n"
   ]
  },
  {
   "cell_type": "code",
   "execution_count": 1,
   "id": "cd85bb0a",
   "metadata": {},
   "outputs": [
    {
     "data": {
      "text/plain": [
       "[['d', 'e', 'v', 'n', 'a', 't', 'i', 'o', 'n'],\n",
       " ['d', 'a', 't', 'a', ' ', 's', 'c', 'i', 'e', 'n', 'c', 'e'],\n",
       " ['r', 'e', 'q', 'u', 'i', 'r', 'e', 's'],\n",
       " ['d', 'e', 'd', 'i', 'c', 'a', 't', 'i', 'o', 'n']]"
      ]
     },
     "execution_count": 1,
     "metadata": {},
     "output_type": "execute_result"
    }
   ],
   "source": [
    "def stringify(list_of_strings):\n",
    "    x = map(list, list_of_strings)\n",
    "\n",
    "    return list(x)\n",
    "\n",
    "\n",
    "stringify(['devnation', 'data science', 'requires', 'dedication'])"
   ]
  },
  {
   "cell_type": "markdown",
   "id": "d70c53dc",
   "metadata": {},
   "source": [
    "Q3. Write a function string_case(list) using map that takes list of characters and return tuples of tuple with containing lower and upper case of that character’s list\n",
    "Final Output must contains unique tuples\n",
    "Sample = ['f', 'b', 'a',’a’]\n",
    "Result = ((‘F’,’F’),(‘B’,’b’),(‘A’,’a’))\n"
   ]
  },
  {
   "cell_type": "code",
   "execution_count": 4,
   "id": "d2e974a6",
   "metadata": {},
   "outputs": [
    {
     "data": {
      "text/plain": [
       "(('I', 'i'), ('Q', 'q'), ('R', 'r'), ('A', 'a'))"
      ]
     },
     "execution_count": 4,
     "metadata": {},
     "output_type": "execute_result"
    }
   ],
   "source": [
    "def upper_lower(x):\n",
    "    return x.upper(),x.lower()\n",
    "def string_case(x):\n",
    "    x = map(upper_lower, x)\n",
    "    return tuple(x)\n",
    "\n",
    "\n",
    "string_case(['i', 'q', 'r','a'])"
   ]
  },
  {
   "cell_type": "markdown",
   "id": "63dde5f6",
   "metadata": {},
   "source": [
    "Q4. Write a function str_join(list,str) that receives two parameters 1. List of strings 2. Single_string value By using lambda and map create a new list that concatenates the list elements with a string parameter Example: Param1 = [“a”,”b”,”c”] Param2 = “@”\n",
    "Output = [“a@”,”b@”,”c@”]\n",
    "\n"
   ]
  },
  {
   "cell_type": "code",
   "execution_count": 8,
   "id": "17887056",
   "metadata": {},
   "outputs": [
    {
     "data": {
      "text/plain": [
       "['a@', 'b@', 'c@']"
      ]
     },
     "execution_count": 8,
     "metadata": {},
     "output_type": "execute_result"
    }
   ],
   "source": [
    "def str_join(List_of_string,Single_string_value):\n",
    "    x = map(lambda x:x+Single_string_value, List_of_string)\n",
    "    return list(x)\n",
    "    \n",
    "str_join([\"a\", \"b\",\"c\"],\"@\")\n",
    "\n"
   ]
  },
  {
   "cell_type": "markdown",
   "id": "a2728674",
   "metadata": {},
   "source": [
    "Q # 5  . Write a function find_indexes(list,int) takes a list and integer value,\n",
    "if the value exists in the list return the list containing all the index where that integer exists \n",
    "else return “value don’t exist”"
   ]
  },
  {
   "cell_type": "code",
   "execution_count": 14,
   "id": "24e6bc00",
   "metadata": {},
   "outputs": [
    {
     "data": {
      "text/plain": [
       "'value don’t exis'"
      ]
     },
     "execution_count": 14,
     "metadata": {},
     "output_type": "execute_result"
    }
   ],
   "source": [
    "def find_indexes(list_value, int_value):\n",
    "# List comprehension  \n",
    "    index_pos_list = [ i for i in range(len(list_value)) if list_value[i] == int_value]\n",
    "    if index_pos_list:\n",
    "        return index_pos_list\n",
    "    else:\n",
    "        return \"value don’t exis\"\n",
    "find_indexes([1,2,3,4,2],5)        \n",
    "  "
   ]
  }
 ],
 "metadata": {
  "kernelspec": {
   "display_name": "Python 3",
   "language": "python",
   "name": "python3"
  },
  "language_info": {
   "codemirror_mode": {
    "name": "ipython",
    "version": 3
   },
   "file_extension": ".py",
   "mimetype": "text/x-python",
   "name": "python",
   "nbconvert_exporter": "python",
   "pygments_lexer": "ipython3",
   "version": "3.8.8"
  }
 },
 "nbformat": 4,
 "nbformat_minor": 5
}
