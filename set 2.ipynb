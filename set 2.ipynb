{
 "cells": [
  {
   "cell_type": "markdown",
   "id": "9d31e009",
   "metadata": {},
   "source": [
    "# Q1. Write a function get_city_mpg_avg, that groups the cars by number of cylinders, and finding the average cty mpg for each group.\n",
    "Output should be in the list of tuples\n",
    "Output = [ (5,20),(4,18),(3,16) ]\n",
    "Note:\n",
    "1. Use MPG.csv file\n",
    "2. First index of tuple shows the number of cylinders and second index shows the average\n",
    "3. Result should be sorted by first tuple index by using lambda functions"
   ]
  },
  {
   "cell_type": "code",
   "execution_count": 7,
   "id": "92f78a74",
   "metadata": {},
   "outputs": [
    {
     "data": {
      "text/plain": [
       "[('4', 21.012345679012345),\n",
       " ('5', 20.5),\n",
       " ('6', 16.21518987341772),\n",
       " ('8', 12.571428571428571)]"
      ]
     },
     "execution_count": 7,
     "metadata": {},
     "output_type": "execute_result"
    }
   ],
   "source": [
    "import csv\n",
    "with open('mpg.csv') as csv_file:   \n",
    "      mpg=list(csv.DictReader(csv_file))\n",
    "def unique_cyl(mpg):\n",
    "    cylinders = []\n",
    "    for i in mpg:\n",
    "        cylinders.append(i['cyl'])\n",
    "        #print(cylinders)\n",
    "    return set(cylinders)\n",
    "def get_cty_mpg_avg():\n",
    "    with open('mpg.csv') as csv_file:\n",
    "        mpg=list(csv.DictReader(csv_file))\n",
    "    z =unique_cyl(mpg)\n",
    "    result=[]\n",
    "    for i in z:\n",
    "        add =0\n",
    "        count=0\n",
    "        for j in mpg:\n",
    "            if j['cyl']==i:\n",
    "                add = add + float(j['cty'])\n",
    "                \n",
    "                count = count+1\n",
    "                avg = add / count\n",
    "        result.append((i,avg))  \n",
    "        result.sort(key=lambda x:x[0])\n",
    "    # final_result=list(result)\n",
    "    return result\n",
    "get_cty_mpg_avg()"
   ]
  },
  {
   "cell_type": "markdown",
   "id": "fd17e9d0",
   "metadata": {},
   "source": [
    "# Q2. Write a function get_hwy_mpg_avg find the average hwy mpg for each class of vehicle Hwy mpg means highway mileage\n",
    "\n",
    "Use MPG.csv file\n",
    "Hwy mpg is found as hwy column in a file\n",
    "Vehicle class is found as class column in a file\n",
    "Sort Hwy Mpg in ascending order Output sample: [('pickup', 16.88),('suv', 18.13),('minivan', 22.36),('2seater', 24.80),('midsize', 27.29), ('subcompact', 28.14), ('compact', 28.30)]"
   ]
  },
  {
   "cell_type": "code",
   "execution_count": 8,
   "id": "79ea3bf4",
   "metadata": {},
   "outputs": [
    {
     "data": {
      "text/plain": [
       "[('pickup', 16.87878787878788),\n",
       " ('suv', 18.129032258064516),\n",
       " ('minivan', 22.363636363636363),\n",
       " ('2seater', 24.8),\n",
       " ('midsize', 27.29268292682927),\n",
       " ('subcompact', 28.142857142857142),\n",
       " ('compact', 28.29787234042553)]"
      ]
     },
     "execution_count": 8,
     "metadata": {},
     "output_type": "execute_result"
    }
   ],
   "source": [
    "import csv\n",
    "with open('mpg.csv') as csv_file:   \n",
    "      mpg=list(csv.DictReader(csv_file))\n",
    "def unique_cyl(mpg):\n",
    "    vehicle = []\n",
    "    for b in mpg:\n",
    "        vehicle.append(b['class'])\n",
    "        \n",
    "    return set(vehicle)\n",
    "unique_cyl(mpg)\n",
    "\n",
    "def get_hwy_mpg_avg():\n",
    "    with open('mpg.csv') as csv_file:\n",
    "        mpg=list(csv.DictReader(csv_file))\n",
    "    z =unique_cyl(mpg)   \n",
    "    result = []\n",
    "    for i in z:\n",
    "        add = 0\n",
    "        count=0\n",
    "        for j in mpg:\n",
    "            if j['class']==i:\n",
    "                add = add + float(j['hwy'])\n",
    "                count += 1\n",
    "                   \n",
    "        result.append((i , add/count))  \n",
    "    result.sort(key=lambda x:x[1])\n",
    "    #final_result=set(result)\n",
    "    return list(result)\n",
    "get_hwy_mpg_avg()"
   ]
  },
  {
   "cell_type": "markdown",
   "id": "050e4b2c",
   "metadata": {},
   "source": [
    "# Q3. Write a function get_indices that receives the list of integers nums and an integer target, return indices of the two numbers such that they add up to target. You may assume that each input would have exactly one solution, and you may not use the same element twice. You can return the answer in any order. Example 1: Input: nums = [2,7,11,15], target = 9 Output: [0,1] Output: Because nums[0] + nums[1] == 9, we return [0, 1]. Example 2: Input: nums = [3,2,4], target = 6 Output: [1,2]"
   ]
  },
  {
   "cell_type": "code",
   "execution_count": 9,
   "id": "a53011fe",
   "metadata": {},
   "outputs": [
    {
     "data": {
      "text/plain": [
       "(1, 2)"
      ]
     },
     "execution_count": 9,
     "metadata": {},
     "output_type": "execute_result"
    }
   ],
   "source": [
    "list_of_integer = [2,7,11,15]\n",
    "def get_indices(list_of_integer, target):\n",
    "    for i in range(len(list_of_integer)):\n",
    "        for j in range(i+1,len(list_of_integer)):\n",
    "            if list_of_integer[i] + list_of_integer[j] == target:\n",
    "                # a = list_of_integer[i] + list_of_integer[j]\n",
    "                return i,j\n",
    "      \n",
    "     \n",
    "    \n",
    "get_indices([3,2,4], 6) "
   ]
  },
  {
   "cell_type": "markdown",
   "id": "33e5c387",
   "metadata": {},
   "source": [
    "# Q4. Write a function backward_number. That a receives a number and return the number in backwards\n",
    "Input = 1234\n",
    "Output = 4321\n",
    "\n",
    "(i used this question by 2 methods)"
   ]
  },
  {
   "cell_type": "code",
   "execution_count": 10,
   "id": "f21b7d81",
   "metadata": {},
   "outputs": [
    {
     "data": {
      "text/plain": [
       "4321"
      ]
     },
     "execution_count": 10,
     "metadata": {},
     "output_type": "execute_result"
    }
   ],
   "source": [
    "def backward_number(num):\n",
    "    revse_number = 0 \n",
    "    while (num > 0):  \n",
    "        # Logic  \n",
    "        remainder = num % 10  \n",
    "        revse_number = (revse_number * 10) + remainder  \n",
    "        num = num // 10  \n",
    "    return revse_number   \n",
    "\n",
    "backward_number(1234)"
   ]
  },
  {
   "cell_type": "code",
   "execution_count": 12,
   "id": "d2ae089e",
   "metadata": {},
   "outputs": [
    {
     "data": {
      "text/plain": [
       "4321"
      ]
     },
     "execution_count": 12,
     "metadata": {},
     "output_type": "execute_result"
    }
   ],
   "source": [
    "def backward_number(num):\n",
    "    number = str(num)\n",
    "    return int(number[::-1])\n",
    "backward_number(1234)"
   ]
  },
  {
   "cell_type": "markdown",
   "id": "f872a43f",
   "metadata": {},
   "source": [
    "# q5. Create a function remove_duplication that takes a list and remove duplication from list.\n",
    "You cannot use set function"
   ]
  },
  {
   "cell_type": "code",
   "execution_count": null,
   "id": "e238c8f1",
   "metadata": {},
   "outputs": [],
   "source": [
    "def remove_duplication(our_list):\n",
    "    final_list = []\n",
    "    for i in our_list:\n",
    "        if i not in final_list:\n",
    "            final_list.append(i)\n",
    "    return final_list\n",
    "\n",
    "remove_duplication([1,2,3,4,3])"
   ]
  }
 ],
 "metadata": {
  "kernelspec": {
   "display_name": "Python 3",
   "language": "python",
   "name": "python3"
  },
  "language_info": {
   "codemirror_mode": {
    "name": "ipython",
    "version": 3
   },
   "file_extension": ".py",
   "mimetype": "text/x-python",
   "name": "python",
   "nbconvert_exporter": "python",
   "pygments_lexer": "ipython3",
   "version": "3.8.8"
  }
 },
 "nbformat": 4,
 "nbformat_minor": 5
}
